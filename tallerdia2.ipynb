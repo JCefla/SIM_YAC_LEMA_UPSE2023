{
  "nbformat": 4,
  "nbformat_minor": 0,
  "metadata": {
    "colab": {
      "provenance": [],
      "authorship_tag": "ABX9TyPoOwgXKAeFPFOgKVca+nQQ",
      "include_colab_link": true
    },
    "kernelspec": {
      "name": "python3",
      "display_name": "Python 3"
    },
    "language_info": {
      "name": "python"
    }
  },
  "cells": [
    {
      "cell_type": "markdown",
      "metadata": {
        "id": "view-in-github",
        "colab_type": "text"
      },
      "source": [
        "<a href=\"https://colab.research.google.com/github/JCefla/SIM_YAC_LEMA_UPSE2023/blob/main/tallerdia2.ipynb\" target=\"_parent\"><img src=\"https://colab.research.google.com/assets/colab-badge.svg\" alt=\"Open In Colab\"/></a>"
      ]
    },
    {
      "cell_type": "code",
      "execution_count": null,
      "metadata": {
        "id": "jMozU0w19p9_"
      },
      "outputs": [],
      "source": [
        "#Hy world"
      ]
    },
    {
      "cell_type": "markdown",
      "source": [
        "#Ejercicio en clase"
      ],
      "metadata": {
        "id": "mv7LCEK6Ck3f"
      }
    },
    {
      "cell_type": "code",
      "source": [
        "5*2"
      ],
      "metadata": {
        "colab": {
          "base_uri": "https://localhost:8080/"
        },
        "id": "hoLM5WefJU4Q",
        "outputId": "27e804b2-5fa0-4a85-fc88-494d6462ff3a"
      },
      "execution_count": null,
      "outputs": [
        {
          "output_type": "execute_result",
          "data": {
            "text/plain": [
              "10"
            ]
          },
          "metadata": {},
          "execution_count": 18
        }
      ]
    },
    {
      "cell_type": "code",
      "source": [
        "import math\n",
        "math.sin(90)"
      ],
      "metadata": {
        "colab": {
          "base_uri": "https://localhost:8080/"
        },
        "id": "Gk7qiLKGJY-L",
        "outputId": "3fc304d6-0eb7-4f3f-c48b-d4e5b0310b33"
      },
      "execution_count": null,
      "outputs": [
        {
          "output_type": "execute_result",
          "data": {
            "text/plain": [
              "0.8939966636005579"
            ]
          },
          "metadata": {},
          "execution_count": 19
        }
      ]
    },
    {
      "cell_type": "code",
      "source": [
        "def sum(x,y,z):\n",
        "  return x*y+z\n",
        "sum (1,5,5)"
      ],
      "metadata": {
        "colab": {
          "base_uri": "https://localhost:8080/"
        },
        "id": "H8vezWp-JmyJ",
        "outputId": "ba00970a-5767-4f39-b38a-bf1045ee8857"
      },
      "execution_count": null,
      "outputs": [
        {
          "output_type": "execute_result",
          "data": {
            "text/plain": [
              "10"
            ]
          },
          "metadata": {},
          "execution_count": 24
        }
      ]
    },
    {
      "cell_type": "code",
      "source": [
        "def funcion (a,b,c,x,t):\n",
        "  return (((a-2*b+c)/x**2)*t+b)\n"
      ],
      "metadata": {
        "id": "882M6tqLMkB5"
      },
      "execution_count": null,
      "outputs": []
    },
    {
      "cell_type": "code",
      "source": [
        "a=0\n",
        "b=4000\n",
        "c=4000\n",
        "x=200\n",
        "t=10\n",
        "#a= P de n+1 cuando i-1\n",
        "#b= P de n+1 cuando es i\n",
        "#c= P de n cuando i+1\n",
        "#t= Delta tiempo t\n",
        "#x= Delta espacio entre nodos x\n",
        "funcion (a,b,c,x,t)"
      ],
      "metadata": {
        "colab": {
          "base_uri": "https://localhost:8080/"
        },
        "id": "Pw9EVs0fZ2C_",
        "outputId": "b46af6cc-55ca-4e96-e65c-eb5253782d1a"
      },
      "execution_count": null,
      "outputs": [
        {
          "output_type": "execute_result",
          "data": {
            "text/plain": [
              "3999.0"
            ]
          },
          "metadata": {},
          "execution_count": 37
        }
      ]
    },
    {
      "cell_type": "code",
      "source": [
        "##Simulador de la Ecuacion de Difusividad\n",
        "import numpy as np\n",
        "P=[0, 4000, 4000, 4000, 0] # Condiciones iniciales del problema\n",
        "Nodos=len(P)\n",
        "Nodos2=[0,1,2,3,4]\n",
        "Tiempo=100\n",
        "DT=10\n",
        "dx=200\n",
        "interaciones=Tiempo/DT\n",
        "t=DT\n",
        "Pin=P\n",
        "Pin2=Pin\n",
        "Pdt=[0,0,0,0,0]"
      ],
      "metadata": {
        "id": "JoXKG2Ooc1NA"
      },
      "execution_count": 3,
      "outputs": []
    },
    {
      "cell_type": "code",
      "source": [
        "def Presdt(P1,P2,P3,deltat,deltax):\n",
        "  return(((P1-2*P2+P3)/(deltax**2))*deltat)+P2\n",
        "Presdt(P[0],P[1],P[2],DT,dx)"
      ],
      "metadata": {
        "colab": {
          "base_uri": "https://localhost:8080/"
        },
        "id": "AaStyCBjAWqI",
        "outputId": "2885d3f1-7332-4637-bc0d-84b704221719"
      },
      "execution_count": 4,
      "outputs": [
        {
          "output_type": "execute_result",
          "data": {
            "text/plain": [
              "3999.0"
            ]
          },
          "metadata": {},
          "execution_count": 4
        }
      ]
    },
    {
      "cell_type": "code",
      "source": [
        "while t<Tiempo:\n",
        "    for i in (Nodos2):\n",
        "      if i==0:\n",
        "        Pdt[i]=P[0]\n",
        "      elif i==len(Nodos2)-1:\n",
        "        Pdt[i]=P[len(Nodos2)-1]\n",
        "      else:\n",
        "        Pdt[i]=Presdt(Pin[i-1],Pin[i],Pin[i+1],DT,dx)\n",
        "    t=t+DT\n",
        "    Pdt=Pin\n",
        "    Pin2=np.append(Pin2,Pdt)"
      ],
      "metadata": {
        "id": "gWzDRYKSBIQQ"
      },
      "execution_count": 12,
      "outputs": []
    },
    {
      "cell_type": "code",
      "source": [
        "print(Pin2)"
      ],
      "metadata": {
        "colab": {
          "base_uri": "https://localhost:8080/"
        },
        "id": "2EmRZbDuCngr",
        "outputId": "87d359f6-b4f1-418d-de3f-fad5ff4f4e0a"
      },
      "execution_count": 13,
      "outputs": [
        {
          "output_type": "stream",
          "name": "stdout",
          "text": [
            "[   0.         4000.         4000.         4000.            0.\n",
            "    0.         4000.         4000.         4000.            0.\n",
            "    0.         3999.         3999.99975    3998.99999994    0.\n",
            "    0.         3998.00049994 3999.99900025 3998.00049969    0.\n",
            "    0.         3997.00149944 3999.99775125 3997.00149888    0.\n",
            "    0.         3996.00299813 3999.9960035  3996.00299713    0.\n",
            "    0.         3995.00499563 3999.99375749 3995.00499407    0.\n",
            "    0.         3994.00749157 3999.99101374 3994.00748932    0.\n",
            "    0.         3993.01048558 3999.98777272 3993.01048252    0.\n",
            "    0.         3992.01397728 3999.98403495 3992.01397329    0.        ]\n"
          ]
        }
      ]
    },
    {
      "cell_type": "code",
      "source": [
        "##Ejercicio 2 de la Ecuacion de Difusividad\n",
        "import numpy as np\n",
        "P=[0, 4000, 4000, 4000, 0] # Condiciones iniciales del problema\n",
        "Nodos=len(P)\n",
        "Nodos2=[0,1,2,3,4]\n",
        "Tiempo=1000\n",
        "DT=50\n",
        "dx=100\n",
        "interaciones=Tiempo/DT\n",
        "t=DT\n",
        "Pin=P\n",
        "Pin2=Pin\n",
        "Pdt=[0,0,0,0,0]"
      ],
      "metadata": {
        "id": "1yl_0iRLI3h6"
      },
      "execution_count": 44,
      "outputs": []
    },
    {
      "cell_type": "code",
      "source": [
        "def Presdt(P1,P2,P3,deltat,deltax):\n",
        "  return(((P1-2*P2+P3)/(deltax**2))*deltat)+P2\n",
        "Presdt(P[0],P[1],P[2],DT,dx)"
      ],
      "metadata": {
        "colab": {
          "base_uri": "https://localhost:8080/"
        },
        "id": "y_8GR9K9JGZ3",
        "outputId": "8930a14c-93f7-47ae-ae10-31a327814444"
      },
      "execution_count": 45,
      "outputs": [
        {
          "output_type": "execute_result",
          "data": {
            "text/plain": [
              "3980.0"
            ]
          },
          "metadata": {},
          "execution_count": 45
        }
      ]
    },
    {
      "cell_type": "code",
      "source": [
        "while t<Tiempo:\n",
        "    for i in (Nodos2):\n",
        "      if i==0:\n",
        "        Pdt[i]=P[0]\n",
        "      elif i==len(Nodos2)-1:\n",
        "        Pdt[i]=P[len(Nodos2)-1]\n",
        "      else:\n",
        "        Pdt[i]=Presdt(Pin[i-1],Pin[i],Pin[i+1],DT,dx)\n",
        "    t=t+DT\n",
        "    Pdt=Pin\n",
        "    Pin2=np.append(Pin2,Pdt)"
      ],
      "metadata": {
        "id": "M2nBo_NXJGNR"
      },
      "execution_count": 46,
      "outputs": []
    },
    {
      "cell_type": "code",
      "source": [
        "print(Pin2)"
      ],
      "metadata": {
        "colab": {
          "base_uri": "https://localhost:8080/"
        },
        "id": "xGBd-mIMJPFs",
        "outputId": "17937388-215a-44fe-da22-c222a9c23b3b"
      },
      "execution_count": 47,
      "outputs": [
        {
          "output_type": "stream",
          "name": "stdout",
          "text": [
            "[   0.         4000.         4000.         4000.            0.\n",
            "    0.         4000.         4000.         4000.            0.\n",
            "    0.         3980.         3999.9        3979.9995        0.\n",
            "    0.         3960.1995     3999.601995   3960.19751498    0.\n",
            "    0.         3940.59551498 3999.1099402  3940.59108953    0.\n",
            "    0.         3921.18510953 3998.42772179 3921.17731724    0.\n",
            "    0.         3901.96539704 3997.55915815 3901.95333986    0.\n",
            "    0.         3882.93353886 3996.50800096 3882.91634646    0.\n",
            "    0.         3864.08674348 3995.2779364  3864.06357268    0.\n",
            "    0.         3845.42226572 3993.87258623 3845.39229989    0.\n",
            "    0.         3826.937406   3992.29550889 3826.89985443    0.\n",
            "    0.         3808.62950948 3990.55020062 3808.58360689    0.\n",
            "    0.         3790.49596539 3988.64009648 3790.4409713     0.\n",
            "    0.         3772.53420622 3986.5685714  3772.46940445    0.\n",
            "    0.         3754.74170701 3984.33894125 3754.66640511    0.\n",
            "    0.         3737.11598465 3981.95446378 3737.02951338    0.\n",
            "    0.         3719.65459712 3979.4183397  3719.55630994    0.\n",
            "    0.         3702.35514285 3976.73371356 3702.24441541    0.\n",
            "    0.         3685.21525999 3973.90367481 3685.09148963    0.\n",
            "    0.         3668.23262576 3970.93125863 3668.09523103    0.        ]\n"
          ]
        }
      ]
    },
    {
      "cell_type": "code",
      "source": [
        "##Ejercicio 3 - Incluyendo un pozo Inyector y Pozo Productor como fronteras - Ecuacion de Difusividad\n",
        "import numpy as np\n",
        "P=[5000, 4000, 4000, 4000, 4000, 3500] # Condiciones iniciales del problema\n",
        "Nodos=len(P)\n",
        "Nodos2=[0,1,2,3,4,5]\n",
        "Tiempo=1000\n",
        "DT=50\n",
        "dx=100\n",
        "interaciones=Tiempo/DT\n",
        "t=DT\n",
        "Pin=P\n",
        "Pin2=Pin\n",
        "Pdt=[0,0,0,0,0,0]"
      ],
      "metadata": {
        "id": "fjbHHL0tK72r"
      },
      "execution_count": 48,
      "outputs": []
    },
    {
      "cell_type": "code",
      "source": [
        "def Presdt(P1,P2,P3,deltat,deltax):\n",
        "  return(((P1-2*P2+P3)/(deltax**2))*deltat)+P2\n",
        "Presdt(P[0],P[1],P[2],DT,dx)"
      ],
      "metadata": {
        "id": "TER-RagpMblU",
        "outputId": "36f9a58b-ea54-41ef-fb58-bd64fbe00213",
        "colab": {
          "base_uri": "https://localhost:8080/"
        }
      },
      "execution_count": 50,
      "outputs": [
        {
          "output_type": "execute_result",
          "data": {
            "text/plain": [
              "4005.0"
            ]
          },
          "metadata": {},
          "execution_count": 50
        }
      ]
    },
    {
      "cell_type": "code",
      "source": [
        "while t<Tiempo:\n",
        "    for i in (Nodos2):\n",
        "      if i==0:\n",
        "        Pdt[i]=P[0]\n",
        "      elif i==len(Nodos2)-1:\n",
        "        Pdt[i]=P[len(Nodos2)-1]\n",
        "      else:\n",
        "        Pdt[i]=Presdt(Pin[i-1],Pin[i],Pin[i+1],DT,dx)\n",
        "    t=t+DT\n",
        "    Pdt=Pin\n",
        "    Pin2=np.append(Pin2,Pdt)"
      ],
      "metadata": {
        "id": "hq0m5lVYMqgb"
      },
      "execution_count": 51,
      "outputs": []
    },
    {
      "cell_type": "code",
      "source": [
        "print(Pin2)"
      ],
      "metadata": {
        "id": "-aR0GJmVMu-g",
        "outputId": "f94ad660-babd-4934-cb09-56f9a94c4dfc",
        "colab": {
          "base_uri": "https://localhost:8080/"
        }
      },
      "execution_count": 53,
      "outputs": [
        {
          "output_type": "stream",
          "name": "stdout",
          "text": [
            "[5000.         4000.         4000.         4000.         4000.\n",
            " 3500.         5000.         4000.         4000.         4000.\n",
            " 4000.         3500.         5000.         4005.         4000.025\n",
            " 4000.000125   3997.50000063 3500.         5000.         4009.950125\n",
            " 4000.07450125 3999.98799626 3995.0249406  3500.         5000.\n",
            " 4014.85099626 4000.1479512  3999.96398076 3992.5745111  3500.\n",
            " 5000.         4019.70322605 4000.24480772 3999.92843754 3990.14840817\n",
            " 3500.         5000.         4024.50741783 4000.36453892 3999.8817179\n",
            " 3987.74633268 3500.         5000.         4029.26416634 4000.50662295\n",
            " 3999.8241655  3985.36799018 3500.         5000.         4033.9740578\n",
            " 4000.67054784 3999.75611654 3983.01309086 3500.         5000.\n",
            " 4038.63766996 4000.85581129 3999.67789988 3980.68134945 3500.\n",
            " 5000.         4043.25557231 4001.06192054 3999.58983723 3978.37248515\n",
            " 3500.         5000.         4047.82832619 4001.28839215 3999.49224325\n",
            " 3976.08622151 3500.         5000.         4052.35648489 4001.53475187\n",
            " 3999.38542568 3973.82228642 3500.         5000.         4056.8405938\n",
            " 4001.80053445 3999.26968553 3971.58041199 3500.         5000.\n",
            " 4061.28119054 4002.08528349 3999.14531715 3969.36033445 3500.\n",
            " 5000.         4065.67880505 4002.38855126 3999.01260841 3967.16179415\n",
            " 3500.         5000.         4070.03395975 4002.70989859 3998.87184079\n",
            " 3964.98453541 3500.         5000.         4074.34716965 4003.04889466\n",
            " 3998.72328953 3962.82830651 3500.         5000.         4078.61894243\n",
            " 4003.40511687 3998.56722375 3960.69285956 3500.         5000.\n",
            " 4082.84977859 4003.77815071 3998.40390657 3958.5779505  3500.        ]\n"
          ]
        }
      ]
    }
  ]
}