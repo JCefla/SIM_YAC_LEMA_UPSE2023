{
  "nbformat": 4,
  "nbformat_minor": 0,
  "metadata": {
    "colab": {
      "provenance": [],
      "authorship_tag": "ABX9TyP/OwQ/YIMrNhY9tntk93au",
      "include_colab_link": true
    },
    "kernelspec": {
      "name": "python3",
      "display_name": "Python 3"
    },
    "language_info": {
      "name": "python"
    }
  },
  "cells": [
    {
      "cell_type": "markdown",
      "metadata": {
        "id": "view-in-github",
        "colab_type": "text"
      },
      "source": [
        "<a href=\"https://colab.research.google.com/github/JCefla/SIM_YAC_LEMA_UPSE2023/blob/main/taller1.ipynb\" target=\"_parent\"><img src=\"https://colab.research.google.com/assets/colab-badge.svg\" alt=\"Open In Colab\"/></a>"
      ]
    },
    {
      "cell_type": "code",
      "execution_count": 1,
      "metadata": {
        "id": "jMozU0w19p9_"
      },
      "outputs": [],
      "source": [
        "#Hy world"
      ]
    },
    {
      "cell_type": "markdown",
      "source": [
        "#Ejercicio en clase"
      ],
      "metadata": {
        "id": "mv7LCEK6Ck3f"
      }
    },
    {
      "cell_type": "code",
      "source": [
        "5*2"
      ],
      "metadata": {
        "colab": {
          "base_uri": "https://localhost:8080/"
        },
        "id": "hoLM5WefJU4Q",
        "outputId": "27e804b2-5fa0-4a85-fc88-494d6462ff3a"
      },
      "execution_count": 18,
      "outputs": [
        {
          "output_type": "execute_result",
          "data": {
            "text/plain": [
              "10"
            ]
          },
          "metadata": {},
          "execution_count": 18
        }
      ]
    },
    {
      "cell_type": "code",
      "source": [
        "import math\n",
        "math.sin(90)"
      ],
      "metadata": {
        "colab": {
          "base_uri": "https://localhost:8080/"
        },
        "id": "Gk7qiLKGJY-L",
        "outputId": "3fc304d6-0eb7-4f3f-c48b-d4e5b0310b33"
      },
      "execution_count": 19,
      "outputs": [
        {
          "output_type": "execute_result",
          "data": {
            "text/plain": [
              "0.8939966636005579"
            ]
          },
          "metadata": {},
          "execution_count": 19
        }
      ]
    },
    {
      "cell_type": "code",
      "source": [
        "def sum(x,y,z):\n",
        "  return x*y+z\n",
        "sum (1,5,5)"
      ],
      "metadata": {
        "colab": {
          "base_uri": "https://localhost:8080/"
        },
        "id": "H8vezWp-JmyJ",
        "outputId": "ba00970a-5767-4f39-b38a-bf1045ee8857"
      },
      "execution_count": 24,
      "outputs": [
        {
          "output_type": "execute_result",
          "data": {
            "text/plain": [
              "10"
            ]
          },
          "metadata": {},
          "execution_count": 24
        }
      ]
    },
    {
      "cell_type": "code",
      "source": [
        "def funcion (a,b,c,x,t):\n",
        "  return (((a-2*b+c)/x**2)*t+b)\n"
      ],
      "metadata": {
        "id": "882M6tqLMkB5"
      },
      "execution_count": 36,
      "outputs": []
    },
    {
      "cell_type": "code",
      "source": [
        "a=0\n",
        "b=4000\n",
        "c=4000\n",
        "x=200\n",
        "t=10\n",
        "#a= P de n+1 cuando i-1\n",
        "#b= P de n+1 cuando es i\n",
        "#c= P de n cuando i+1\n",
        "#t= Delta tiempo t\n",
        "#x= Delta espacio entre nodos x\n",
        "funcion (a,b,c,x,t)"
      ],
      "metadata": {
        "colab": {
          "base_uri": "https://localhost:8080/"
        },
        "id": "Pw9EVs0fZ2C_",
        "outputId": "b46af6cc-55ca-4e96-e65c-eb5253782d1a"
      },
      "execution_count": 37,
      "outputs": [
        {
          "output_type": "execute_result",
          "data": {
            "text/plain": [
              "3999.0"
            ]
          },
          "metadata": {},
          "execution_count": 37
        }
      ]
    },
    {
      "cell_type": "code",
      "source": [],
      "metadata": {
        "id": "JoXKG2Ooc1NA"
      },
      "execution_count": null,
      "outputs": []
    }
  ]
}